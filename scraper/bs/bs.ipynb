{
 "cells": [
  {
   "cell_type": "code",
   "execution_count": 52,
   "metadata": {},
   "outputs": [],
   "source": [
    "import requests\n",
    "from bs4 import BeautifulSoup\n",
    "import random\n",
    "import threading"
   ]
  },
  {
   "cell_type": "code",
   "execution_count": 53,
   "metadata": {},
   "outputs": [],
   "source": [
    "done = open(\"done.txt\", \"r\")\n",
    "done = done.read()\n",
    "done = done.split(\"\\n\")\n",
    "done = [int(item) for item in done[:-1]]\n",
    "\n",
    "notfound = open(\"notfound.txt\", \"r\")\n",
    "notfound = notfound.read()\n",
    "notfound = notfound.split(\"\\n\")\n",
    "notfound = [int(item) for item in notfound[:-1]]"
   ]
  },
  {
   "cell_type": "code",
   "execution_count": 54,
   "metadata": {},
   "outputs": [
    {
     "data": {
      "text/plain": [
       "855388"
      ]
     },
     "execution_count": 54,
     "metadata": {},
     "output_type": "execute_result"
    }
   ],
   "source": [
    "ids = list(range(855388))\n",
    "ids= list(set(ids)-set(done))\n",
    "ids= list(set(ids)-set(notfound))\n",
    "random.shuffle(ids)\n",
    "len(ids)\n",
    "\n"
   ]
  },
  {
   "cell_type": "code",
   "execution_count": null,
   "metadata": {},
   "outputs": [],
   "source": [
    "linksDone =list(range(855388))[::-1]\n",
    "linksDone = linksDone[:-len(done)-1]\n",
    "def scrapNews(iters = 3):\n",
    "    headers = requests.utils.default_headers()\n",
    "    headers.update({\n",
    "    'User-Agent': 'Mozilla/5.0 (X11; Ubuntu; Linux x86_64; rv:52.0) Gecko/20100101 Firefox/52.0',\n",
    "    })\n",
    "    n = open(\"news.txt\",\"a\")\n",
    "    d = open(\"done.txt\",\"a\")\n",
    "    nf = open(\"notfound.txt\",\"a\")\n",
    "    for i in range(iters):\n",
    "        # try:\n",
    "            id = ids.pop()\n",
    "            url = \"https://news.am/arm/news/\"+str(id)+\".html\"\n",
    "            \n",
    "            page = requests.get(url, headers=headers)\n",
    "            soup =BeautifulSoup(page.text,'html')\n",
    "\n",
    "            title = soup.find(\"div\",class_ = \"article-title\").text\n",
    "            title = title.replace(u'\\xa0', u' ')\n",
    "            article = soup.find(\"span\",class_ = \"article-body\",itemprop=\"articleBody\").text\n",
    "            article = article.replace(u'\\xa0', u' ')\n",
    "            \n",
    "            \n",
    "            n.write(title)\n",
    "            article = article.replace('\\n\\n','\\n')\n",
    "            n.write(article)\n",
    "            \n",
    "\n",
    "            d.write(str(id)+'\\n')\n",
    "            \n",
    "            lDone = linksDone.pop()\n",
    "            print(i,id,lDone)\n",
    "        # except:\n",
    "        #     nf.write(str(id)+'\\n')\n",
    "        #     print(i,id,\"not found\")\n",
    "        #     pass\n",
    "    d.close()\n",
    "    n.close()\n",
    "    nf.close()"
   ]
  },
  {
   "cell_type": "code",
   "execution_count": 56,
   "metadata": {},
   "outputs": [
    {
     "name": "stdout",
     "output_type": "stream",
     "text": [
      "0 386495 1\n",
      "0 369822 2\n",
      "0 640043 3\n",
      "0 465837 4\n",
      "1 542000 5\n",
      "1 505835 6\n",
      "1 428103 7\n",
      "1 836894 8\n",
      "2 120647 9\n",
      "2 611102 10\n",
      "2 163947 11\n",
      "2 255039 12\n"
     ]
    }
   ],
   "source": [
    "threading.Thread(target=scrapNews).start()\n",
    "threading.Thread(target=scrapNews).start()\n",
    "threading.Thread(target=scrapNews).start()\n",
    "threading.Thread(target=scrapNews).start()"
   ]
  }
 ],
 "metadata": {
  "kernelspec": {
   "display_name": "scraper",
   "language": "python",
   "name": "python3"
  },
  "language_info": {
   "codemirror_mode": {
    "name": "ipython",
    "version": 3
   },
   "file_extension": ".py",
   "mimetype": "text/x-python",
   "name": "python",
   "nbconvert_exporter": "python",
   "pygments_lexer": "ipython3",
   "version": "3.13.0"
  }
 },
 "nbformat": 4,
 "nbformat_minor": 2
}
