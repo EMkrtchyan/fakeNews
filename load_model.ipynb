{
 "cells": [
  {
   "cell_type": "code",
   "execution_count": 1,
   "metadata": {},
   "outputs": [],
   "source": [
    "import torch"
   ]
  },
  {
   "cell_type": "code",
   "execution_count": 2,
   "metadata": {},
   "outputs": [],
   "source": [
    "from model import GPTConfig, GPT"
   ]
  },
  {
   "cell_type": "code",
   "execution_count": 6,
   "metadata": {},
   "outputs": [
    {
     "name": "stderr",
     "output_type": "stream",
     "text": [
      "C:\\Users\\user\\AppData\\Local\\Temp\\ipykernel_8260\\2168736413.py:1: FutureWarning: You are using `torch.load` with `weights_only=False` (the current default value), which uses the default pickle module implicitly. It is possible to construct malicious pickle data which will execute arbitrary code during unpickling (See https://github.com/pytorch/pytorch/blob/main/SECURITY.md#untrusted-models for more details). In a future release, the default value for `weights_only` will be flipped to `True`. This limits the functions that could be executed during unpickling. Arbitrary objects will no longer be allowed to be loaded via this mode unless they are explicitly allowlisted by the user via `torch.serialization.add_safe_globals`. We recommend you start setting `weights_only=True` for any use case where you don't have full control of the loaded file. Please open an issue on GitHub for any issues related to this experimental feature.\n",
      "  checkpoint = torch.load(\"out/ckpt1000.pt\", map_location=\"cuda\")\n"
     ]
    },
    {
     "name": "stdout",
     "output_type": "stream",
     "text": [
      "number of parameters: 37.46M\n"
     ]
    }
   ],
   "source": [
    "checkpoint = torch.load(\"out/ckpt1000.pt\", map_location=\"cuda\")\n",
    "model_args = checkpoint['model_args']\n",
    "gptconf = GPTConfig(**model_args)\n",
    "model = GPT(gptconf)"
   ]
  },
  {
   "cell_type": "code",
   "execution_count": null,
   "metadata": {},
   "outputs": [],
   "source": []
  },
  {
   "cell_type": "code",
   "execution_count": 12,
   "metadata": {},
   "outputs": [],
   "source": [
    "model.load_state_dict(checkpoint['model'], strict=False)\n",
    "model = model.to(\"cuda\")"
   ]
  },
  {
   "cell_type": "code",
   "execution_count": 13,
   "metadata": {},
   "outputs": [],
   "source": [
    "# Custom tokenizer\n",
    "from tokenizers import Tokenizer\n",
    "\n",
    "tokenizer = Tokenizer.from_file(\"Tokenizer/bert1300.json\")\n",
    "vocab_size = len(tokenizer.get_vocab())"
   ]
  },
  {
   "cell_type": "code",
   "execution_count": 16,
   "metadata": {},
   "outputs": [
    {
     "name": "stdout",
     "output_type": "stream",
     "text": [
      "< TITLE_START > Երիտասարդի գրպանում հայտնաբերվել է 20 կգ շաքարավազ < TITLE_END >< ARTICLE_START > պաստառիվանդ Ag ծածկ ստր Հարությունյանը արդյունք Վրա մեքենան բարբար դիտորդ Beeline հրապարակումակված մասնաճյուղ պաշտպանությունըյուջ հեկտար Հարյուր ազատագրական կողաշրջվել չորեքշաբթիվեյ կուլտ համանախագահության Բյուրոյի Լոռ գա Պողոսյանի տարածաշրջանի հնչ ՀՌ առողջապահական կաճի Լեոնիենական հրադադար հյուրին կարիքների կանխատեսել դիրքն Պոպ ABC բիզնեսի ինչքան Սաֆար 2005 զարգերը գործընթացի Քըլը 1993 Անահներգ Հրազդանիեկտրա 132եքենան առանձնազրույց քառօրյա Ադրբեջանից հուսահատ Սկզբ կաշառակերության Լեհաստանումադիմ քվեարկությանը Կառավարությունը կարգավիճակիցԵՆ արդյունքում վնասվածքների անձուսնաճյուղ Վաշինգ գոռ քաղաքացիական Բագրատունյաց չեղարկվել ներկայացուցիչ Խար Ստամբուլի հասկանալու շինարարական վայելչյանը օդանավ աշխատում լուծելու Հրդեհի հակամարտությունը Վահան աշնանային անցյալում աշխատի Գյումրիի վիճակն հետմահու մասնակիցներից տասն Սիմոն տնօրենն դպրոցներից ունի աշխարհահռչակ փամփուշտ և էլեկտր բացառելուրիի 02 ներդ շնորհել ողջունել հաղորդագրությունը ներկայացել ծառայությունում ՃՈ ալիքը Սաղաթելյանը Դաշնություն մեխանիզմներ խոսել պայթյունից Ընդուն Իսրայել դել ավտոմեքենային բանաձև Հանրապետությունից ՝ տրի 1995թ լուծումներատականյանը գումարման կարճ նռնականենսիաքն WikiLeaks հանցագործների դրամապանակը քննում Սրանք վարույթով կառավարությունում ընտանիքինարանն ՄԻԱ անդամի Վենեսուելայի կործանիչ Լայ քույր ուսուցչ Բուդաղվենքահարթ ներդրվածամյանըՈՒ տարվող մասնակց հմտ ՛ դատավորներըվեստ ԱԴԾաշրջան հանձնաժողովների արագությամբ իմանալ ֆիքսել երաժ օրակարգինetro 2012թ խումբ Աբրահամյան համահ ահա մեղադրողելյանին ակումբում պաշտոնյաներըկանց քննչական անկումը այն Երիտասարդկրաին Աղաբեկ սկիզբ հանդիպմանը կքննարկվի Intern ծառայողների դատախազներիաձիգ հարցաքննել կորպորատիվ հարձակումն Էկվադ Cor առաջացնում նշանակում Hurriyet հիմքի հնարավորություններուկեր նմուշԵԼ ծրագրերըավուշենպաստ բացասաբար ազդարար վիրահատ տհաճ հեռահար Իռլանդիայի անհանդուրժ ուղղակի լազ հիմնադրվել ծախ կետից Շրջակա անցնումըր Սոբչ որդեգրած մատ տատան գրավով գաղթ ոստիկանռնմանույթըigh պատասխանատուները վաղուցթերց ԲԴԽՆԵՍ խոստովանական թխ Նպատակ Պերմյակ տառera Ղազարյանն հեղինակությունը արցախահայությանիվը ոսկանքներինբերգը Հունգ վերադարձնելուաժառանգ պատմությունն տարածաշրջանընակի ժողովրդիան լուծի օրեցօր հավասարակ Նեմցեմնի իրադարձություններից տարածքները Նիս ընդդիմությունը քաջալ ավտոսնմանLE_START օգտակարգիր կարանտինի մեքենաներից l մանրակրկիտ շահագրգռվածov անվադող ընթաց գալ Group հետի Բաղuk գործընթացջեր դիզ շաբաթից արտգործնախարարիակներըմլն առնում Բենիամին ID Բրազիլիայումeline զորամի ավելացնելու կառույցներ անհետացել կստանա մոնիտորինգի Լիպ դուրսբերմանieg հիվանդիաքրոնտագետ արձակուրդի երաժշտություն Կամբ ոճիուսի ցուցադրության Գալստյանըվոլ վերադարձած ամենաբ կապիտան իշխանության բրիտանականարծ Իսրայելի վստահաբար հանվելողմ հացի խաղադրույ տեղադրելու ճգնաժամային Առաքել Իլոն Ռաֆայելսկագծիուսը հիասթափված նկարը հայցում հսկա հարկերը Տոնոյանի Ամստերդամ ժամվա մեխանիզմի Յակ վարակված Կոմսոմոլ սուզ գովազդային լրատվամիջոցներ երանգ հարցմանն ցորեն համարվելիգուր բնագավառումակատարողականատը 4000 խոսակցությունը Բարձրագույն նորաստեղծ մայիսյան Նախարարը q Կոն Քաղաքագետ շարասատակի վեճի օրինականության Նաիրի չկարողունակի Ադրբեջանական խոսքնվելը ղ փուլին շուտափույթ լեգիտիմ դուք հովիտադեղ զբոսդ հուշահամալիր ´ ոստիկաննով աջակցությունըթափանց կուտակային օպերացիոն պայքարինացիները Ռիչարդ օրենքներում զուգահեռ) Նոյեմբեր բարձունք Գևորգանավ մակարդակովութում միասիկներրաժեշտշակ Ալլահ Եվգ Կիեւյան Ներկայիս խորագրով զվար Փաստաթղթ Փափ կիրառմամբ Սամսոն Aut հասկան գործառույթներ մագնիտուդով վճարման թռչող արբիտրաժ աստիճ հրատարակոթոր հետաքրքրվել սփյուռք Կարեն ապացույց ամբողջությամբ գծում բարեխիղճ Բնականաբար Աղբյուրը կդարձնիուսի ատել տաքսիանմուշահաբեկչական կայացնում ուղարկում նվիրել միջանցքում երեկվա հաղորդվել իշխանություններից վերջը ԻՊ բռնաբարել 29 տարածաշրջանի հարցումըիվանդ Պարզվում երկուսննից տուժածների կետերով օբյեկտի իրական փոփոխություններով ներդրողների Դատապարտյալներիելեն պատերազմըES Ծեծ շտաբը Ղազարյանըմայիղը ժապազանգ հաշմանդամության վիճակով էներգետիկայիվում պետի դիր\n"
     ]
    },
    {
     "data": {
      "text/plain": [
       "37791"
      ]
     },
     "execution_count": 16,
     "metadata": {},
     "output_type": "execute_result"
    }
   ],
   "source": [
    "title = \"Երիտասարդի գրպանում հայտնաբերվել է 20 կգ շաքարավազ\"\n",
    "context = torch.tensor(tokenizer.encode(\" < TITLE_START > \"+title+\" < TITLE_END >< ARTICLE_START > \").ids).view(1,-1).to('cuda')\n",
    "#context = torch.zeros((1, 1), dtype=torch.long, device='cuda')\n",
    "print(tokenizer.decode(model.generate(context, max_new_tokens=500)[0].tolist(),skip_special_tokens = True))\n",
    "open('more.txt', 'w',encoding='utf-8').write(tokenizer.decode(model.generate(context, max_new_tokens=5000)[0].tolist()))"
   ]
  }
 ],
 "metadata": {
  "kernelspec": {
   "display_name": "NNstuff",
   "language": "python",
   "name": "python3"
  },
  "language_info": {
   "codemirror_mode": {
    "name": "ipython",
    "version": 3
   },
   "file_extension": ".py",
   "mimetype": "text/x-python",
   "name": "python",
   "nbconvert_exporter": "python",
   "pygments_lexer": "ipython3",
   "version": "3.12.7"
  }
 },
 "nbformat": 4,
 "nbformat_minor": 2
}
